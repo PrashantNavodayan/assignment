{
 "cells": [
  {
   "cell_type": "code",
   "execution_count": 1,
   "id": "d63992c1-f711-41db-9a79-ea00bbd67bdb",
   "metadata": {},
   "outputs": [],
   "source": [
    "l=[2,4,5,6,7,6,9]"
   ]
  },
  {
   "cell_type": "code",
   "execution_count": 2,
   "id": "8bad7bd2-e6ec-4794-b640-3fee6409b4eb",
   "metadata": {},
   "outputs": [
    {
     "name": "stdout",
     "output_type": "stream",
     "text": [
      "2\n",
      "4\n",
      "5\n",
      "6\n",
      "7\n",
      "6\n",
      "9\n"
     ]
    }
   ],
   "source": [
    "for prashant in l:\n",
    "    print(prashant)"
   ]
  },
  {
   "cell_type": "code",
   "execution_count": 3,
   "id": "604cfef2-66da-4fa8-9ac4-2d48dffe5abc",
   "metadata": {},
   "outputs": [
    {
     "name": "stdout",
     "output_type": "stream",
     "text": [
      "10\n",
      "20\n",
      "25\n",
      "30\n",
      "35\n",
      "30\n",
      "45\n"
     ]
    }
   ],
   "source": [
    "for prashant in l:\n",
    "    print(prashant*5)"
   ]
  },
  {
   "cell_type": "code",
   "execution_count": 4,
   "id": "97c521eb-ae06-4341-8b56-187628f3b80e",
   "metadata": {},
   "outputs": [
    {
     "data": {
      "text/plain": [
       "9"
      ]
     },
     "execution_count": 4,
     "metadata": {},
     "output_type": "execute_result"
    }
   ],
   "source": [
    "prashant"
   ]
  },
  {
   "cell_type": "code",
   "execution_count": 5,
   "id": "1e7f74f0-8389-4106-95f3-be41d9468799",
   "metadata": {},
   "outputs": [
    {
     "data": {
      "text/plain": [
       "9"
      ]
     },
     "execution_count": 5,
     "metadata": {},
     "output_type": "execute_result"
    }
   ],
   "source": [
    "l.pop()"
   ]
  },
  {
   "cell_type": "code",
   "execution_count": 6,
   "id": "6d18c135-e4ac-492e-bb9a-4d169575b125",
   "metadata": {},
   "outputs": [
    {
     "data": {
      "text/plain": [
       "9"
      ]
     },
     "execution_count": 6,
     "metadata": {},
     "output_type": "execute_result"
    }
   ],
   "source": [
    "prashant"
   ]
  },
  {
   "cell_type": "code",
   "execution_count": 7,
   "id": "f5f866bf-307c-4533-b0cb-e37c490bd5b3",
   "metadata": {},
   "outputs": [
    {
     "ename": "NameError",
     "evalue": "name 'q' is not defined",
     "output_type": "error",
     "traceback": [
      "\u001b[0;31m---------------------------------------------------------------------------\u001b[0m",
      "\u001b[0;31mNameError\u001b[0m                                 Traceback (most recent call last)",
      "Cell \u001b[0;32mIn[7], line 1\u001b[0m\n\u001b[0;32m----> 1\u001b[0m \u001b[43mq\u001b[49m\n",
      "\u001b[0;31mNameError\u001b[0m: name 'q' is not defined"
     ]
    }
   ],
   "source": [
    "q"
   ]
  },
  {
   "cell_type": "code",
   "execution_count": 13,
   "id": "21d57a3a-4a61-49bf-8861-3d919d0b899e",
   "metadata": {},
   "outputs": [
    {
     "ename": "TypeError",
     "evalue": "'int' object is not iterable",
     "output_type": "error",
     "traceback": [
      "\u001b[0;31m---------------------------------------------------------------------------\u001b[0m",
      "\u001b[0;31mTypeError\u001b[0m                                 Traceback (most recent call last)",
      "Cell \u001b[0;32mIn[13], line 1\u001b[0m\n\u001b[0;32m----> 1\u001b[0m \u001b[38;5;28;01mfor\u001b[39;00m p \u001b[38;5;129;01min\u001b[39;00m l:\n\u001b[1;32m      2\u001b[0m     \u001b[38;5;28mprint\u001b[39m (p)\n",
      "\u001b[0;31mTypeError\u001b[0m: 'int' object is not iterable"
     ]
    }
   ],
   "source": [
    "for p in l:\n",
    "    print (p)"
   ]
  },
  {
   "cell_type": "code",
   "execution_count": 14,
   "id": "3e8790d1-2c30-4bfd-9dc7-3e3d230089d2",
   "metadata": {},
   "outputs": [],
   "source": [
    "l=[3,5,6,7,8,9,3]"
   ]
  },
  {
   "cell_type": "code",
   "execution_count": 16,
   "id": "52692147-02a2-4d8a-b9ad-d347fa937904",
   "metadata": {},
   "outputs": [
    {
     "name": "stdout",
     "output_type": "stream",
     "text": [
      "3\n",
      "5\n",
      "6\n",
      "7\n",
      "8\n",
      "9\n",
      "3\n"
     ]
    }
   ],
   "source": [
    "l2=[]\n",
    "for p in l:\n",
    "    print(p)\n",
    "    l2.append(p+3)\n",
    "    "
   ]
  },
  {
   "cell_type": "code",
   "execution_count": 17,
   "id": "c23b08e5-a193-4c09-a3b2-11616d99c9ed",
   "metadata": {},
   "outputs": [
    {
     "data": {
      "text/plain": [
       "[6, 8, 9, 10, 11, 12, 6]"
      ]
     },
     "execution_count": 17,
     "metadata": {},
     "output_type": "execute_result"
    }
   ],
   "source": [
    "l2"
   ]
  },
  {
   "cell_type": "code",
   "execution_count": 18,
   "id": "8397c585-ec3b-4947-8c1b-5f7de3548724",
   "metadata": {},
   "outputs": [],
   "source": [
    "l3=[\"prashant singh\",\"raju\",\"vijay\"]"
   ]
  },
  {
   "cell_type": "code",
   "execution_count": 21,
   "id": "9b69be62-15c9-47ea-9744-d3bbeb49b00f",
   "metadata": {},
   "outputs": [
    {
     "name": "stdout",
     "output_type": "stream",
     "text": [
      "prashant singh\n",
      "raju\n",
      "vijay\n"
     ]
    }
   ],
   "source": [
    "l5=[]\n",
    "for me in l3:\n",
    "    print(me)\n",
    "    l5.append(me.upper())"
   ]
  },
  {
   "cell_type": "code",
   "execution_count": 22,
   "id": "789e6058-7e40-4a3a-83b1-a8c1fce7b198",
   "metadata": {},
   "outputs": [
    {
     "data": {
      "text/plain": [
       "['PRASHANT SINGH', 'RAJU', 'VIJAY']"
      ]
     },
     "execution_count": 22,
     "metadata": {},
     "output_type": "execute_result"
    }
   ],
   "source": [
    "l5\n",
    "    "
   ]
  },
  {
   "cell_type": "code",
   "execution_count": 24,
   "id": "db7b0024-7f73-4552-b1bc-09f3651db1ca",
   "metadata": {},
   "outputs": [
    {
     "name": "stdout",
     "output_type": "stream",
     "text": [
      "prashant singh\n",
      "raju\n",
      "vijay\n"
     ]
    }
   ],
   "source": [
    "l6=[]\n",
    "for me in l3:\n",
    "    print(me)\n",
    "    l6.append(me.upper())"
   ]
  },
  {
   "cell_type": "code",
   "execution_count": 25,
   "id": "dd3a862c-0f33-4d18-a2be-a41cf8397a84",
   "metadata": {},
   "outputs": [
    {
     "data": {
      "text/plain": [
       "['PRASHANT SINGH', 'RAJU', 'VIJAY']"
      ]
     },
     "execution_count": 25,
     "metadata": {},
     "output_type": "execute_result"
    }
   ],
   "source": [
    "l6"
   ]
  },
  {
   "cell_type": "code",
   "execution_count": 26,
   "id": "76170475-a1cf-4503-80a5-f4e1327a8344",
   "metadata": {},
   "outputs": [],
   "source": [
    "l8=[\"raju\",\"vijay\",\"sumit\",34,56,78,2345,1]"
   ]
  },
  {
   "cell_type": "code",
   "execution_count": 27,
   "id": "c7c2b340-a336-452b-b932-f253be2813a8",
   "metadata": {},
   "outputs": [
    {
     "name": "stdout",
     "output_type": "stream",
     "text": [
      "raju\n",
      "vijay\n",
      "sumit\n",
      "34\n",
      "56\n",
      "78\n",
      "2345\n",
      "1\n"
     ]
    }
   ],
   "source": [
    "p1=[]\n",
    "p2=[]\n",
    "for me in l8:\n",
    "    print(me)\n",
    "    if type(me)==int or type(me)==float:\n",
    "        p1.append(me)\n",
    "    else :\n",
    "        p2.append(me)\n",
    "        \n",
    "        \n",
    "        \n",
    "        "
   ]
  },
  {
   "cell_type": "code",
   "execution_count": 28,
   "id": "6cca2080-2329-4228-9d43-92790c10aa1d",
   "metadata": {},
   "outputs": [
    {
     "data": {
      "text/plain": [
       "[]"
      ]
     },
     "execution_count": 28,
     "metadata": {},
     "output_type": "execute_result"
    }
   ],
   "source": [
    "l1"
   ]
  },
  {
   "cell_type": "code",
   "execution_count": 29,
   "id": "bcc08415-a7f5-4419-8b3b-e9fc3a5df4a6",
   "metadata": {},
   "outputs": [
    {
     "data": {
      "text/plain": [
       "[34, 56, 78, 2345, 1]"
      ]
     },
     "execution_count": 29,
     "metadata": {},
     "output_type": "execute_result"
    }
   ],
   "source": [
    "p1"
   ]
  },
  {
   "cell_type": "code",
   "execution_count": 30,
   "id": "407a2f95-66d3-4177-a528-d31a9d772ad5",
   "metadata": {},
   "outputs": [
    {
     "data": {
      "text/plain": [
       "['raju', 'vijay', 'sumit']"
      ]
     },
     "execution_count": 30,
     "metadata": {},
     "output_type": "execute_result"
    }
   ],
   "source": [
    "p2"
   ]
  },
  {
   "cell_type": "code",
   "execution_count": null,
   "id": "5e8c6121-f872-4072-8c62-1d5b98724c5a",
   "metadata": {},
   "outputs": [],
   "source": []
  }
 ],
 "metadata": {
  "kernelspec": {
   "display_name": "Python 3 (ipykernel)",
   "language": "python",
   "name": "python3"
  },
  "language_info": {
   "codemirror_mode": {
    "name": "ipython",
    "version": 3
   },
   "file_extension": ".py",
   "mimetype": "text/x-python",
   "name": "python",
   "nbconvert_exporter": "python",
   "pygments_lexer": "ipython3",
   "version": "3.10.8"
  }
 },
 "nbformat": 4,
 "nbformat_minor": 5
}
